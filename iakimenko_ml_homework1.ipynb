{
  "nbformat": 4,
  "nbformat_minor": 0,
  "metadata": {
    "colab": {
      "provenance": [],
      "authorship_tag": "ABX9TyO0blhUBCUgKgFDXamrqgm7",
      "include_colab_link": true
    },
    "kernelspec": {
      "name": "python3",
      "display_name": "Python 3"
    },
    "language_info": {
      "name": "python"
    }
  },
  "cells": [
    {
      "cell_type": "markdown",
      "metadata": {
        "id": "view-in-github",
        "colab_type": "text"
      },
      "source": [
        "<a href=\"https://colab.research.google.com/github/GeorhiiIakimenko/Django_hillel/blob/main/iakimenko_ml_homework1.ipynb\" target=\"_parent\"><img src=\"https://colab.research.google.com/assets/colab-badge.svg\" alt=\"Open In Colab\"/></a>"
      ]
    },
    {
      "cell_type": "code",
      "execution_count": 335,
      "metadata": {
        "id": "UY02WN1HWStM"
      },
      "outputs": [],
      "source": [
        "import numpy as np"
      ]
    },
    {
      "cell_type": "code",
      "source": [
        "from google.colab import drive\n",
        "drive.mount('/content/drive')"
      ],
      "metadata": {
        "colab": {
          "base_uri": "https://localhost:8080/"
        },
        "id": "v1R6hEl3WlNO",
        "outputId": "a68253ec-8140-49e6-dbc4-7f5d4c95cc41"
      },
      "execution_count": 336,
      "outputs": [
        {
          "output_type": "stream",
          "name": "stdout",
          "text": [
            "Drive already mounted at /content/drive; to attempt to forcibly remount, call drive.mount(\"/content/drive\", force_remount=True).\n"
          ]
        }
      ]
    },
    {
      "cell_type": "code",
      "source": [
        "#glass = pd.read_csv('/content/drive/MyDrive/Colab Notebooks/glass+identification/glass.data', delimiter=',', header=None, names=column_names)"
      ],
      "metadata": {
        "id": "54FGx9T2YL0o"
      },
      "execution_count": 337,
      "outputs": []
    },
    {
      "cell_type": "code",
      "source": [
        "data_hillel =np.genfromtxt('https://archive.ics.uci.edu/ml/machine-learning-databases/iris/iris.data', dtype=float, delimiter=',', usecols=(0,1,2,3,4))"
      ],
      "metadata": {
        "id": "OY9CicCDP2AK"
      },
      "execution_count": 338,
      "outputs": []
    },
    {
      "cell_type": "code",
      "source": [
        "data_hillel.shape"
      ],
      "metadata": {
        "colab": {
          "base_uri": "https://localhost:8080/"
        },
        "id": "NfcpqSqgP8JN",
        "outputId": "2a235fca-4903-4b9d-e0e3-81322a006fd3"
      },
      "execution_count": 339,
      "outputs": [
        {
          "output_type": "execute_result",
          "data": {
            "text/plain": [
              "(150, 5)"
            ]
          },
          "metadata": {},
          "execution_count": 339
        }
      ]
    },
    {
      "cell_type": "code",
      "source": [
        "#pip install numpy==1.24"
      ],
      "metadata": {
        "id": "CwhVICRrRyhw"
      },
      "execution_count": 340,
      "outputs": []
    },
    {
      "cell_type": "markdown",
      "source": [
        "Встановив та закоментував pip install"
      ],
      "metadata": {
        "id": "kGDq2sVBSRuk"
      }
    },
    {
      "cell_type": "code",
      "source": [
        "np.__version__"
      ],
      "metadata": {
        "colab": {
          "base_uri": "https://localhost:8080/",
          "height": 37
        },
        "id": "JyPoPw8MR7Q7",
        "outputId": "96883529-ef4a-4786-9274-36e0e40c7996"
      },
      "execution_count": 341,
      "outputs": [
        {
          "output_type": "execute_result",
          "data": {
            "text/plain": [
              "'1.24.0'"
            ],
            "application/vnd.google.colaboratory.intrinsic+json": {
              "type": "string"
            }
          },
          "metadata": {},
          "execution_count": 341
        }
      ]
    },
    {
      "cell_type": "markdown",
      "source": [
        "## **Creating**"
      ],
      "metadata": {
        "id": "DnJdxH3LTdnn"
      }
    },
    {
      "cell_type": "markdown",
      "source": [
        "### Знайти в датасеті таргет та видалити цю колонку з датасету (видаляти за індексом)\n",
        "### Перетворити колонки, що залишились в 2D масив (або впевнитись, що це уже 2D масив)\n"
      ],
      "metadata": {
        "id": "wb8c0sNA2v0B"
      }
    },
    {
      "cell_type": "code",
      "source": [
        "print(\"Форма датасету до видалення:\", data_hillel.shape)\n",
        "\n",
        "# Отримання таргет колонки\n",
        "target_column_index = 4\n",
        "target_column = data_hillel[:, target_column_index]\n",
        "\n",
        "\n",
        "# Видалення таргет колонки з датасету\n",
        "data_hillel_without_target = np.delete(data_hillel, target_column_index, axis=1)\n",
        "\n",
        "# Вивід форми датасету після видалення\n",
        "print(\"Форма датасету після видалення:\", data_hillel_without_target.shape)\n",
        "\n",
        "# Перетворення залишених колонок в 2D масив\n",
        "data_hillel_2d = np.array(data_hillel_without_target)\n",
        "\n",
        "# Вивід форми нового 2D масиву\n",
        "print(\"Форма 2D масиву:\", data_hillel_2d.shape)\n",
        "\n",
        "#print(data_hillel) #Убрати хештег для перевірки\n"
      ],
      "metadata": {
        "id": "voE9TPgETgFY"
      },
      "execution_count": null,
      "outputs": []
    },
    {
      "cell_type": "markdown",
      "source": [
        "Далі ще один за прикладів роботи з колонками коли одразу приводимо в 2D массив і перевіряємо (як приклад)"
      ],
      "metadata": {
        "id": "ie7USa0WZtdz"
      }
    },
    {
      "cell_type": "code",
      "source": [
        "data_hillel = np.array([\n",
        "    [5.1, 3.5, 1.4, 0.2, 'Iris-setosa'],\n",
        "    [4.9, 3.0, 1.4, 0.2, 'Iris-setosa'],\n",
        "    [4.7, 3.2, 1.3, 0.2, 'Iris-setosa'],\n",
        "    ...\n",
        "])\n",
        "\n",
        "# Отримання кількості колонок у датасеті\n",
        "num_columns = data_hillel.shape[1]\n",
        "\n",
        "# Видалення останньої колонки (за останнім індексом)\n",
        "data_hillel_without_last_column = data_hillel[:, :-1]\n",
        "\n",
        "print(\"Датасет після видалення останньої колонки:\\n\", data_hillel_without_last_column)\n",
        "\n",
        "if data_hillel_without_last_column.ndim == 2:\n",
        "    print(\"Це є 2D масив.\")\n",
        "else:\n",
        "    print(\"Це не є 2D масив.\")\n"
      ],
      "metadata": {
        "id": "K2VpB_Q7W9K7"
      },
      "execution_count": null,
      "outputs": []
    },
    {
      "cell_type": "markdown",
      "source": [
        "### Порахувати mean, median, standard deviation для 1-ї колонки"
      ],
      "metadata": {
        "id": "5Kh1hDB33CPs"
      }
    },
    {
      "cell_type": "code",
      "source": [
        "# Обчислення медіани першої колонки\n",
        "median_first_column = np.median(data_hillel_2d[:, 0])\n",
        "\n",
        "# Вивід обчисленої медіани\n",
        "print(\"Медіана першої колонки:\", median_first_column)\n",
        "\n",
        "# Обчислення середнього значення першої колонки\n",
        "mean_first_column = np.mean(data_hillel_2d[:, 0])\n",
        "\n",
        "# Вивід середнього значення\n",
        "print(\"Середнє значення першої колонки\", mean_first_column )\n",
        "\n",
        "# Обчислення стандартного відхилення першої колонки\n",
        "std_first_column = np.std(data_hillel_2d[:, 0])\n",
        "\n",
        "# Вивід обчисленого стандартного відхилення\n",
        "print(\"Стандартне відхилення першої колонки:\", std_first_column)\n",
        "\n"
      ],
      "metadata": {
        "id": "OrL4IisbbgUd"
      },
      "execution_count": null,
      "outputs": []
    },
    {
      "cell_type": "markdown",
      "source": [
        "### Вставити 20 значень np.nan на випадкові позиції в масиві (при використанні звичайного рандому можуть накластись позиції, тому знайти рішення, яке гарантує 20 унікальних позицій)\n",
        "### Знайти позиції вставлених значень np.nan в 1-й колонці"
      ],
      "metadata": {
        "id": "HfxwOHxp3JZO"
      }
    },
    {
      "cell_type": "code",
      "source": [
        "# Розмірність масиву\n",
        "rows, cols = data_hillel_2d.shape\n",
        "\n",
        "# Кількість значень np.nan для вставки\n",
        "num_nans = 20\n",
        "\n",
        "# Створення списку унікальних позицій\n",
        "unique_positions = list(range(rows * cols))\n",
        "np.random.shuffle(unique_positions)\n",
        "unique_positions = unique_positions[:num_nans]\n",
        "\n",
        "# Розбивка унікальних позицій на рядки і стовпці\n",
        "row_indices = np.array(unique_positions) // cols\n",
        "col_indices = np.array(unique_positions) % cols\n",
        "\n",
        "# Вставка np.nan на обрані позиції\n",
        "data_hillel_2d[row_indices, col_indices] = np.nan\n",
        "\n",
        "# Знаходимо позиції зі значеннями np.nan\n",
        "nan_positions = np.where(np.isnan(data_hillel_2d))\n",
        "\n",
        "# Виводимо знайдені позиції\n",
        "print(\"Позиції зі значеннями np.nan:\")\n",
        "for row, col in zip(nan_positions[0], nan_positions[1]):\n",
        "    print(f\"Рядок: {row}, Стовпець: {col}\")\n",
        "\n",
        "# Знаходимо позиції зі значеннями np.nan у першій колонці\n",
        "nan_positions_1st_column = np.where(np.isnan(data_hillel_2d[:, 0]))\n",
        "\n",
        "# Виводимо знайдені позиції\n",
        "print(\"Позиції зі значеннями np.nan в першій колонці:\")\n",
        "print(nan_positions_1st_column)\n",
        "\n",
        "\n"
      ],
      "metadata": {
        "id": "Cq9JaE0ij3E8"
      },
      "execution_count": null,
      "outputs": []
    },
    {
      "cell_type": "markdown",
      "source": [
        "### Відфільтрувати массив за умовою: значення в 3-й колонці > 1.5 та значения в 1-й колонці < 5.0 (зберегти у іншу змінну)"
      ],
      "metadata": {
        "id": "1TRXU4IQ3Rhc"
      }
    },
    {
      "cell_type": "code",
      "source": [
        "filtered_data = data_hillel_2d[(data_hillel_2d[:, 2] > 1.5) & (data_hillel_2d[:, 0] < 5.0)]\n",
        "\n",
        "# Виводимо результат\n",
        "print(\"Відфільтрований масив:\")\n",
        "print(filtered_data)"
      ],
      "metadata": {
        "id": "sq5pRHekmAvc"
      },
      "execution_count": null,
      "outputs": []
    },
    {
      "cell_type": "markdown",
      "source": [
        "### Замінити всі значення np.nan на 0"
      ],
      "metadata": {
        "id": "Yqn6Nfpy3aT1"
      }
    },
    {
      "cell_type": "code",
      "source": [
        "# Замінюємо np.nan на 0\n",
        "data_without_nan = np.nan_to_num(data_hillel_2d, nan=0.0)\n",
        "\n",
        "# Виводимо результат\n",
        "print(\"Масив після заміни np.nan на 0:\")\n",
        "print(data_without_nan)"
      ],
      "metadata": {
        "id": "pneVILQBmamB"
      },
      "execution_count": null,
      "outputs": []
    },
    {
      "cell_type": "markdown",
      "source": [
        "### Порахувати всі унікальні значення в массиві та вивести їх разом із кількістю"
      ],
      "metadata": {
        "id": "mITOQxe-3hYn"
      }
    },
    {
      "cell_type": "code",
      "source": [
        "# Знаходимо унікальні значення та їх кількість\n",
        "unique_values, counts = np.unique(data_without_nan, return_counts=True)\n",
        "\n",
        "# Виводимо унікальні значення разом із кількістю\n",
        "for value, count in zip(unique_values, counts):\n",
        "    print(f\"Значення: {value}, Кількість: {count}\")"
      ],
      "metadata": {
        "id": "ofjL8i6WnWCK"
      },
      "execution_count": null,
      "outputs": []
    },
    {
      "cell_type": "markdown",
      "source": [
        "### Розбити масив по горизонталі на 2 рівні частини"
      ],
      "metadata": {
        "id": "QNjMxwHP3qpR"
      }
    },
    {
      "cell_type": "code",
      "source": [
        "# Разбивка масиву на дві рівні частини по колонках\n",
        "num_columns = data_without_nan.shape[1]\n",
        "middle_column = num_columns // 2\n",
        "\n",
        "first_half_columns = data_without_nan[:, :middle_column]\n",
        "second_half_columns = data_without_nan[:, middle_column:]\n",
        "\n",
        "print(\"Перша частина по колонках:\")\n",
        "print(first_half_columns)\n",
        "\n",
        "print(\"Друга частина по колонках:\")\n",
        "print(second_half_columns)"
      ],
      "metadata": {
        "id": "kSNyV8Diorjr"
      },
      "execution_count": null,
      "outputs": []
    },
    {
      "cell_type": "markdown",
      "source": [
        "### Відсортувати обидва массиви по 1-й колонці: 1-й за збільшенням, 2-й за зменшенням"
      ],
      "metadata": {
        "id": "lyosMc_Y3v3f"
      }
    },
    {
      "cell_type": "code",
      "source": [
        "# Сортировка по первой колонке в порядке возрастания\n",
        "sorted_indices_1st = np.argsort(first_half_columns[:, 0])\n",
        "sorted_first_half = first_half_columns[sorted_indices_1st]\n",
        "\n",
        "# Сортировка по первой колонке в порядке убывания\n",
        "sorted_indices_2nd = np.argsort(second_half_columns[:, 0])[::-1]  # [::-1] для инверсии порядка\n",
        "sorted_second_half = second_half_columns[sorted_indices_2nd]\n",
        "\n",
        "print(\"Перша частина відсортована по першій колонці:\")\n",
        "print(sorted_first_half)\n",
        "\n",
        "print(\"Друга частина відсортована по першій колонці:\")\n",
        "print(sorted_second_half)\n"
      ],
      "metadata": {
        "id": "xsFlmdNUxy9b"
      },
      "execution_count": null,
      "outputs": []
    },
    {
      "cell_type": "markdown",
      "source": [
        "Зібрати обидва массиви в одне ціле"
      ],
      "metadata": {
        "id": "znLJ8Uec35MA"
      }
    },
    {
      "cell_type": "code",
      "source": [
        "# Объединение массивов по горизонтали\n",
        "comby_array = np.hstack((sorted_first_half, sorted_second_half))\n",
        "\n",
        "print(\"Об'єднаний масив:\")\n",
        "print(comby_array)\n"
      ],
      "metadata": {
        "id": "QQQ7d8CCyESc"
      },
      "execution_count": null,
      "outputs": []
    },
    {
      "cell_type": "markdown",
      "source": [
        "### Знайти найбільш часто повторюване значення в массиві"
      ],
      "metadata": {
        "id": "aN0o8TAU38_B"
      }
    },
    {
      "cell_type": "code",
      "source": [
        "# Знаходимо унікальні значення та їх кількість\n",
        "unique_values, counts = np.unique(comby_array, return_counts=True)\n",
        "\n",
        "# Знаходимо індекс найбільшої частоти\n",
        "max_count_index = np.argmax(counts)\n",
        "\n",
        "# Отримуємо найбільш часто повторюване значення\n",
        "most_common_value = unique_values[max_count_index]\n",
        "\n",
        "# Виводимо результат\n",
        "print(\"Найбільш часто повторюване значення:\", most_common_value)\n"
      ],
      "metadata": {
        "id": "iVBP1doRyUCp"
      },
      "execution_count": null,
      "outputs": []
    },
    {
      "cell_type": "markdown",
      "source": [
        "### Написати функцію, яка б множила всі значення в колонці, які менше середнього значения в цій колонці, на 2, і ділила інші значення на 4.\n",
        "### Застосувати отриману функцію до 3-ї колонки"
      ],
      "metadata": {
        "id": "jmPG-8a14KoW"
      }
    },
    {
      "cell_type": "code",
      "source": [
        "def process_column(column):\n",
        "    mean = np.mean(column)\n",
        "    result = np.where(column < mean, column * 2, column / 4)\n",
        "    return result\n",
        "\n",
        "# Застосування функції до 3-ї колонки\n",
        "column_index = 2  # Індекс 3-ї колонки (індексування з нуля)\n",
        "data_without_nan[:, column_index] = process_column(data_without_nan[:, column_index])\n",
        "\n",
        "# Вивід результату після застосування функції\n",
        "print(\"Третя колонка:\",data_without_nan[:, 2])\n",
        "print(\"Масив після обробки 3-ї колонки:\")\n",
        "print(data_without_nan)\n"
      ],
      "metadata": {
        "id": "njG3-3plycEl"
      },
      "execution_count": null,
      "outputs": []
    }
  ]
}